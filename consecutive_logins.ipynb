{
 "cells": [
  {
   "cell_type": "code",
   "execution_count": 1,
   "id": "ee642496",
   "metadata": {},
   "outputs": [],
   "source": [
    "from pyspark.sql import SparkSession\n",
    "import getpass\n",
    "from pyspark.sql.functions import col, lit, to_date, date_format, dense_rank, max, min, datediff\n",
    "from pyspark.sql.window import Window"
   ]
  },
  {
   "cell_type": "code",
   "execution_count": 2,
   "id": "a674eb4e",
   "metadata": {},
   "outputs": [],
   "source": [
    "user = getpass.getuser()"
   ]
  },
  {
   "cell_type": "code",
   "execution_count": 3,
   "id": "c836b92c",
   "metadata": {},
   "outputs": [],
   "source": [
    "spark = SparkSession.builder.appName(f\"{user} continous login problem\")\\\n",
    ".config(\"spark.sql.warehouse.dir\", f\"/user/{user}/warehouse\")\\\n",
    ".enableHiveSupport()\\\n",
    ".master(\"yarn\")\\\n",
    ".getOrCreate()"
   ]
  },
  {
   "cell_type": "code",
   "execution_count": 4,
   "id": "ac04e1b4",
   "metadata": {},
   "outputs": [],
   "source": [
    "data = [\n",
    "(1, '2024-03-01'),\n",
    "(1, '2024-03-02'),\n",
    "(1, '2024-03-03'),\n",
    "(1, '2024-03-04'),\n",
    "(1, '2024-03-06'),\n",
    "(1, '2024-03-10'),\n",
    "(1, '2024-03-11'),\n",
    "(1, '2024-03-12'),\n",
    "(1, '2024-03-13'),\n",
    "(1, '2024-03-14'),\n",
    "(1, '2024-03-20'),\n",
    "(1, '2024-03-25'),\n",
    "(1, '2024-03-26'),\n",
    "(1, '2024-03-27'),\n",
    "(1, '2024-03-28'),\n",
    "(1, '2024-03-29'),\n",
    "(1, '2024-03-30'),\n",
    "(2, '2024-03-01'),\n",
    "(2, '2024-03-02'),\n",
    "(2, '2024-03-03'),\n",
    "(2, '2024-03-04'),\n",
    "(3, '2024-03-01'),\n",
    "(3, '2024-03-02'),\n",
    "(3, '2024-03-03'),\n",
    "(3, '2024-03-04'),\n",
    "(3, '2024-03-04'),\n",
    "(3, '2024-03-04'),\n",
    "(3, '2024-03-05'),\n",
    "(4, '2024-03-01'),\n",
    "(4, '2024-03-02'),\n",
    "(4, '2024-03-03'),\n",
    "(4, '2024-03-04'),\n",
    "(4, '2024-03-04')\n",
    "]"
   ]
  },
  {
   "cell_type": "code",
   "execution_count": 5,
   "id": "ca2e25d0",
   "metadata": {},
   "outputs": [
    {
     "data": {
      "text/html": [
       "<table border='1'>\n",
       "<tr><th>user_id</th><th>login_date</th></tr>\n",
       "<tr><td>1</td><td>2024-03-01</td></tr>\n",
       "<tr><td>1</td><td>2024-03-02</td></tr>\n",
       "<tr><td>1</td><td>2024-03-03</td></tr>\n",
       "<tr><td>1</td><td>2024-03-04</td></tr>\n",
       "<tr><td>1</td><td>2024-03-06</td></tr>\n",
       "<tr><td>1</td><td>2024-03-10</td></tr>\n",
       "<tr><td>1</td><td>2024-03-11</td></tr>\n",
       "<tr><td>1</td><td>2024-03-12</td></tr>\n",
       "<tr><td>1</td><td>2024-03-13</td></tr>\n",
       "<tr><td>1</td><td>2024-03-14</td></tr>\n",
       "<tr><td>1</td><td>2024-03-20</td></tr>\n",
       "<tr><td>1</td><td>2024-03-25</td></tr>\n",
       "<tr><td>1</td><td>2024-03-26</td></tr>\n",
       "<tr><td>1</td><td>2024-03-27</td></tr>\n",
       "<tr><td>1</td><td>2024-03-28</td></tr>\n",
       "<tr><td>1</td><td>2024-03-29</td></tr>\n",
       "<tr><td>1</td><td>2024-03-30</td></tr>\n",
       "<tr><td>2</td><td>2024-03-01</td></tr>\n",
       "<tr><td>2</td><td>2024-03-02</td></tr>\n",
       "<tr><td>2</td><td>2024-03-03</td></tr>\n",
       "</table>\n",
       "only showing top 20 rows\n"
      ],
      "text/plain": [
       "+-------+----------+\n",
       "|user_id|login_date|\n",
       "+-------+----------+\n",
       "|      1|2024-03-01|\n",
       "|      1|2024-03-02|\n",
       "|      1|2024-03-03|\n",
       "|      1|2024-03-04|\n",
       "|      1|2024-03-06|\n",
       "|      1|2024-03-10|\n",
       "|      1|2024-03-11|\n",
       "|      1|2024-03-12|\n",
       "|      1|2024-03-13|\n",
       "|      1|2024-03-14|\n",
       "|      1|2024-03-20|\n",
       "|      1|2024-03-25|\n",
       "|      1|2024-03-26|\n",
       "|      1|2024-03-27|\n",
       "|      1|2024-03-28|\n",
       "|      1|2024-03-29|\n",
       "|      1|2024-03-30|\n",
       "|      2|2024-03-01|\n",
       "|      2|2024-03-02|\n",
       "|      2|2024-03-03|\n",
       "+-------+----------+\n",
       "only showing top 20 rows"
      ]
     },
     "execution_count": 5,
     "metadata": {},
     "output_type": "execute_result"
    }
   ],
   "source": [
    "schema = \"user_id int , login_date string\"\n",
    "\n",
    "df = spark.createDataFrame(data = data , schema = schema)\n",
    "df"
   ]
  },
  {
   "cell_type": "code",
   "execution_count": 6,
   "id": "4245c035",
   "metadata": {},
   "outputs": [],
   "source": [
    "df = df.withColumn(\"login_date\", to_date(\"login_date\"))"
   ]
  },
  {
   "cell_type": "code",
   "execution_count": 7,
   "id": "f38b9b50",
   "metadata": {},
   "outputs": [],
   "source": [
    "df = df.withColumn(\"dense_rank\", dense_rank().over(Window.partitionBy(\"user_id\").orderBy(\"login_date\")))"
   ]
  },
  {
   "cell_type": "code",
   "execution_count": 8,
   "id": "c42f647e",
   "metadata": {},
   "outputs": [],
   "source": [
    "new_df = df.withColumn(\"windowing_Col\", col(\"login_date\")- col(\"dense_rank\")) "
   ]
  },
  {
   "cell_type": "code",
   "execution_count": 9,
   "id": "d22aba5f",
   "metadata": {},
   "outputs": [
    {
     "name": "stdout",
     "output_type": "stream",
     "text": [
      "root\n",
      " |-- user_id: integer (nullable = true)\n",
      " |-- login_date: date (nullable = true)\n",
      " |-- dense_rank: integer (nullable = true)\n",
      " |-- windowing_Col: date (nullable = true)\n",
      "\n"
     ]
    }
   ],
   "source": [
    "new_df.printSchema()"
   ]
  },
  {
   "cell_type": "code",
   "execution_count": 12,
   "id": "66e56cb7",
   "metadata": {},
   "outputs": [
    {
     "data": {
      "text/html": [
       "<table border='1'>\n",
       "<tr><th>user_id</th><th>windowing_Col</th><th>end_date</th><th>start_date</th><th>consecutive_day_count</th></tr>\n",
       "<tr><td>1</td><td>2024-03-04</td><td>2024-03-14</td><td>2024-03-10</td><td>5</td></tr>\n",
       "<tr><td>1</td><td>2024-03-13</td><td>2024-03-30</td><td>2024-03-25</td><td>6</td></tr>\n",
       "<tr><td>3</td><td>2024-02-29</td><td>2024-03-05</td><td>2024-03-01</td><td>5</td></tr>\n",
       "</table>\n"
      ],
      "text/plain": [
       "+-------+-------------+----------+----------+---------------------+\n",
       "|user_id|windowing_Col|  end_date|start_date|consecutive_day_count|\n",
       "+-------+-------------+----------+----------+---------------------+\n",
       "|      1|   2024-03-04|2024-03-14|2024-03-10|                    5|\n",
       "|      1|   2024-03-13|2024-03-30|2024-03-25|                    6|\n",
       "|      3|   2024-02-29|2024-03-05|2024-03-01|                    5|\n",
       "+-------+-------------+----------+----------+---------------------+"
      ]
     },
     "execution_count": 12,
     "metadata": {},
     "output_type": "execute_result"
    }
   ],
   "source": [
    "new_df.groupBy(\"user_id\", \"windowing_Col\").agg(max(\"login_date\").alias(\"end_date\")\\\n",
    "                                        , min(\"login_date\").alias(\"start_date\"))\\\n",
    ".withColumn(\"consecutive_day_count\", datediff(col(\"end_date\") + 1, col(\"start_date\")))\\\n",
    ".filter(\"consecutive_day_count >= 5\").orderBy(\"user_id\", \"start_date\")"
   ]
  },
  {
   "cell_type": "code",
   "execution_count": null,
   "id": "2f0e8339",
   "metadata": {},
   "outputs": [],
   "source": []
  }
 ],
 "metadata": {
  "kernelspec": {
   "display_name": "Pyspark 3",
   "language": "python",
   "name": "pyspark3"
  },
  "language_info": {
   "codemirror_mode": {
    "name": "ipython",
    "version": 3
   },
   "file_extension": ".py",
   "mimetype": "text/x-python",
   "name": "python",
   "nbconvert_exporter": "python",
   "pygments_lexer": "ipython3",
   "version": "3.6.12"
  }
 },
 "nbformat": 4,
 "nbformat_minor": 5
}
