{
 "cells": [
  {
   "cell_type": "code",
   "execution_count": 1,
   "id": "14524f96",
   "metadata": {},
   "outputs": [],
   "source": [
    "from pyspark.sql import SparkSession\n",
    "import getpass\n",
    "from pyspark.sql.functions import col, substring, locate, expr, lit, to_date, date_format, when, lag, concat, row_number, count, max\n",
    "from pyspark.sql.window import Window"
   ]
  },
  {
   "cell_type": "code",
   "execution_count": 2,
   "id": "e1514f4c",
   "metadata": {},
   "outputs": [],
   "source": [
    "user = getpass.getuser()"
   ]
  },
  {
   "cell_type": "code",
   "execution_count": 3,
   "id": "1069b9d9",
   "metadata": {},
   "outputs": [],
   "source": [
    "spark = SparkSession.builder.appName(f\"{user} Practice\")\\\n",
    ".config(\"spark.sql.warehouse.dir\", f\"/user/{user}/warehouse\")\\\n",
    ".enableHiveSupport()\\\n",
    ".master(\"yarn\")\\\n",
    ".getOrCreate()"
   ]
  },
  {
   "cell_type": "code",
   "execution_count": null,
   "id": "9e902d82",
   "metadata": {},
   "outputs": [],
   "source": [
    "spark.sql(\"show databases like 'itv010684*'\").show()"
   ]
  },
  {
   "cell_type": "code",
   "execution_count": 4,
   "id": "fcc75422",
   "metadata": {},
   "outputs": [
    {
     "data": {
      "text/html": [
       "<table border='1'>\n",
       "<tr><th></th></tr>\n",
       "</table>\n"
      ],
      "text/plain": [
       "++\n",
       "||\n",
       "++\n",
       "++"
      ]
     },
     "execution_count": 4,
     "metadata": {},
     "output_type": "execute_result"
    }
   ],
   "source": [
    "spark.sql(\"drop table if exists itv010684_db.ipl_results;\")"
   ]
  },
  {
   "cell_type": "code",
   "execution_count": 4,
   "id": "e01cd669",
   "metadata": {},
   "outputs": [
    {
     "data": {
      "text/html": [
       "<table border='1'>\n",
       "<tr><th></th></tr>\n",
       "</table>\n"
      ],
      "text/plain": [
       "++\n",
       "||\n",
       "++\n",
       "++"
      ]
     },
     "execution_count": 4,
     "metadata": {},
     "output_type": "execute_result"
    }
   ],
   "source": [
    "spark.sql(\"use itv010684_db\")"
   ]
  },
  {
   "cell_type": "code",
   "execution_count": 6,
   "id": "7d497392",
   "metadata": {},
   "outputs": [
    {
     "data": {
      "text/html": [
       "<table border='1'>\n",
       "<tr><th></th></tr>\n",
       "</table>\n"
      ],
      "text/plain": [
       "++\n",
       "||\n",
       "++\n",
       "++"
      ]
     },
     "execution_count": 6,
     "metadata": {},
     "output_type": "execute_result"
    }
   ],
   "source": [
    "spark.sql(\"\"\"create table ipl_results\n",
    "(match_no int,\n",
    "round_number varchar(50),\n",
    "dates string,\n",
    "location varchar(50),\n",
    "home_team varchar(50),\n",
    "away_team varchar(50),\n",
    "result varchar(50)\n",
    ");\"\"\")"
   ]
  },
  {
   "cell_type": "code",
   "execution_count": 7,
   "id": "6ac30575",
   "metadata": {},
   "outputs": [],
   "source": [
    "spark.sql(\"insert into ipl_results values(1 , '1', '2023-03-31', 'Narendra Modi Stadium, Ahmedabad','Gujarat Titans','Chennai Super Kings','Gujarat Titans');\");\n",
    "spark.sql(\"insert into ipl_results values(2 , '1', '2023-04-01', 'Punjab Cricket Association IS Bindra Stadium, Moha','Punjab Kings','Kolkata Knight Riders','Punjab Kings');\");\n",
    "spark.sql(\"insert into ipl_results values(3 , '1', '2023-04-01', 'Bharat Ratna Shri Atal Bihari Vajpayee Ekana Crick','Lucknow Super Giants','Delhi Capitals','Lucknow Super Giants');\");\n",
    "spark.sql(\"insert into ipl_results values(4 , '1', '2023-04-02', 'Rajiv Gandhi International Stadium, Hyderabad','Sunrisers Hyderabad','Rajasthan Royals','Rajasthan Royals');\");\n",
    "spark.sql(\"insert into ipl_results values(5 , '1', '2023-04-02', 'M Chinnaswamy Stadium, Bengaluru','Royal Challengers Bangalore','Mumbai Indians','Royal Challengers Bangalore');\");\n",
    "spark.sql(\"insert into ipl_results values(6 , '1', '2023-04-03', 'MA Chidambaram Stadium, Chennai','Chennai Super Kings','Lucknow Super Giants','Chennai Super Kings');\");\n",
    "spark.sql(\"insert into ipl_results values(7 , '1', '2023-04-04', 'Arun Jaitley Stadium, Delhi','Delhi Capitals','Gujarat Titans','Gujarat Titans');\");\n",
    "spark.sql(\"insert into ipl_results values(8 , '1', '2023-04-05', 'Barsapara Cricket Stadium, Guwahati','Rajasthan Royals','Punjab Kings','Punjab Kings');\");\n",
    "spark.sql(\"insert into ipl_results values(9 , '1', '2023-04-06', 'Eden Gardens, Kolkata','Kolkata Knight Riders','Royal Challengers Bangalore','Kolkata Knight Riders');\");\n",
    "spark.sql(\"insert into ipl_results values(10 , '1', '2023-04-07', 'Bharat Ratna Shri Atal Bihari Vajpayee Ekana Crick','Lucknow Super Giants','Sunrisers Hyderabad','Lucknow Super Giants');\");\n",
    "spark.sql(\"insert into ipl_results values(11 , '2', '2023-04-08', 'Barsapara Cricket Stadium, Guwahati','Rajasthan Royals','Delhi Capitals','Rajasthan Royals');\");\n",
    "spark.sql(\"insert into ipl_results values(12 , '2', '2023-04-08', 'Wankhede Stadium, Mumbai','Mumbai Indians','Chennai Super Kings','Chennai Super Kings');\");\n",
    "spark.sql(\"insert into ipl_results values(13 , '2', '2023-04-09', 'Narendra Modi Stadium, Ahmedabad','Gujarat Titans','Kolkata Knight Riders','Kolkata Knight Riders');\");\n",
    "spark.sql(\"insert into ipl_results values(14 , '2', '2023-04-09', 'Rajiv Gandhi International Stadium, Hyderabad','Sunrisers Hyderabad','Punjab Kings','Sunrisers Hyderabad');\");\n",
    "spark.sql(\"insert into ipl_results values(15 , '2', '2023-04-10', 'M Chinnaswamy Stadium, Bengaluru','Royal Challengers Bangalore','Lucknow Super Giants','Lucknow Super Giants');\");\n",
    "spark.sql(\"insert into ipl_results values(16 , '2', '2023-04-11', 'Arun Jaitley Stadium, Delhi','Delhi Capitals','Mumbai Indians','Mumbai Indians');\");\n",
    "spark.sql(\"insert into ipl_results values(17 , '2', '2023-04-12', 'MA Chidambaram Stadium, Chennai','Chennai Super Kings','Rajasthan Royals','Rajasthan Royals');\");\n",
    "spark.sql(\"insert into ipl_results values(18 , '2', '2023-04-13', 'Punjab Cricket Association IS Bindra Stadium, Moha','Punjab Kings','Gujarat Titans','Gujarat Titans');\");\n",
    "spark.sql(\"insert into ipl_results values(19 , '2', '2023-04-14', 'Eden Gardens, Kolkata','Kolkata Knight Riders','Sunrisers Hyderabad','Sunrisers Hyderabad');\");\n",
    "spark.sql(\"insert into ipl_results values(20 , '3', '2023-04-15', 'M Chinnaswamy Stadium, Bengaluru','Royal Challengers Bangalore','Delhi Capitals','Royal Challengers Bangalore');\");\n",
    "spark.sql(\"insert into ipl_results values(21 , '3', '2023-04-15', 'Bharat Ratna Shri Atal Bihari Vajpayee Ekana Crick','Lucknow Super Giants','Punjab Kings','Punjab Kings');\");\n",
    "spark.sql(\"insert into ipl_results values(22 , '3', '2023-04-16', 'Wankhede Stadium, Mumbai','Mumbai Indians','Kolkata Knight Riders','Mumbai Indians');\");\n",
    "spark.sql(\"insert into ipl_results values(23 , '3', '2023-04-16', 'Narendra Modi Stadium, Ahmedabad','Gujarat Titans','Rajasthan Royals','Rajasthan Royals');\");\n",
    "spark.sql(\"insert into ipl_results values(24 , '3', '2023-04-17', 'M Chinnaswamy Stadium, Bengaluru','Royal Challengers Bangalore','Chennai Super Kings','Chennai Super Kings');\");\n",
    "spark.sql(\"insert into ipl_results values(25 , '3', '2023-04-18', 'Rajiv Gandhi International Stadium, Hyderabad','Sunrisers Hyderabad','Mumbai Indians','Mumbai Indians');\");\n",
    "spark.sql(\"insert into ipl_results values(26 , '3', '2023-04-19', 'Sawai Mansingh Stadium, Jaipur','Rajasthan Royals','Lucknow Super Giants','Lucknow Super Giants');\");\n",
    "spark.sql(\"insert into ipl_results values(27 , '3', '2023-04-20', 'Punjab Cricket Association IS Bindra Stadium, Moha','Punjab Kings','Royal Challengers Bangalore','Royal Challengers Bangalore');\");\n",
    "spark.sql(\"insert into ipl_results values(28 , '3', '2023-04-20', 'Arun Jaitley Stadium, Delhi','Delhi Capitals','Kolkata Knight Riders','Delhi Capitals');\");\n",
    "spark.sql(\"insert into ipl_results values(29 , '3', '2023-04-21', 'MA Chidambaram Stadium, Chennai','Chennai Super Kings','Sunrisers Hyderabad','Chennai Super Kings');\");\n",
    "spark.sql(\"insert into ipl_results values(30 , '4', '2023-04-22', 'Bharat Ratna Shri Atal Bihari Vajpayee Ekana Crick','Lucknow Super Giants','Gujarat Titans','Gujarat Titans');\");\n",
    "spark.sql(\"insert into ipl_results values(31 , '4', '2023-04-22', 'Wankhede Stadium, Mumbai','Mumbai Indians','Punjab Kings','Punjab Kings');\");\n",
    "spark.sql(\"insert into ipl_results values(32 , '4', '2023-04-23', 'M Chinnaswamy Stadium, Bengaluru','Royal Challengers Bangalore','Rajasthan Royals','Royal Challengers Bangalore');\");\n",
    "spark.sql(\"insert into ipl_results values(33 , '4', '2023-04-23', 'Eden Gardens, Kolkata','Kolkata Knight Riders','Chennai Super Kings','Chennai Super Kings');\");\n",
    "spark.sql(\"insert into ipl_results values(34 , '4', '2023-04-24', 'Rajiv Gandhi International Stadium, Hyderabad','Sunrisers Hyderabad','Delhi Capitals','Delhi Capitals');\");\n",
    "spark.sql(\"insert into ipl_results values(35 , '4', '2023-04-25', 'Narendra Modi Stadium, Ahmedabad','Gujarat Titans','Mumbai Indians','Gujarat Titans');\");\n",
    "spark.sql(\"insert into ipl_results values(36 , '4', '2023-04-26', 'M Chinnaswamy Stadium, Bengaluru','Royal Challengers Bangalore','Kolkata Knight Riders','Kolkata Knight Riders');\");\n",
    "spark.sql(\"insert into ipl_results values(37 , '4', '2023-04-27', 'Sawai Mansingh Stadium, Jaipur','Rajasthan Royals','Chennai Super Kings','Rajasthan Royals');\");\n",
    "spark.sql(\"insert into ipl_results values(38 , '4', '2023-04-28', 'Punjab Cricket Association IS Bindra Stadium, Moha','Punjab Kings','Lucknow Super Giants','Lucknow Super Giants');\");\n",
    "spark.sql(\"insert into ipl_results values(39 , '4', '2023-04-29', 'Eden Gardens, Kolkata','Kolkata Knight Riders','Gujarat Titans','Gujarat Titans');\");\n",
    "spark.sql(\"insert into ipl_results values(40 , '4', '2023-04-29', 'Arun Jaitley Stadium, Delhi','Delhi Capitals','Sunrisers Hyderabad','Sunrisers Hyderabad');\");\n",
    "spark.sql(\"insert into ipl_results values(41 , '5', '2023-04-30', 'MA Chidambaram Stadium, Chennai','Chennai Super Kings','Punjab Kings','Punjab Kings');\");\n",
    "spark.sql(\"insert into ipl_results values(42 , '5', '2023-04-30', 'Wankhede Stadium, Mumbai','Mumbai Indians','Rajasthan Royals','Mumbai Indians');\");\n",
    "spark.sql(\"insert into ipl_results values(43 , '5', '2023-05-01', 'Bharat Ratna Shri Atal Bihari Vajpayee Ekana Crick','Lucknow Super Giants','Royal Challengers Bangalore','Royal Challengers Bangalore');\");\n",
    "spark.sql(\"insert into ipl_results values(44 , '5', '2023-05-02', 'Narendra Modi Stadium, Ahmedabad','Gujarat Titans','Delhi Capitals','Delhi Capitals');\");\n",
    "spark.sql(\"insert into ipl_results values(46 , '5', '2023-05-03', 'Bharat Ratna Shri Atal Bihari Vajpayee Ekana Crick','Lucknow Super Giants','Chennai Super Kings','No Result');\");\n",
    "spark.sql(\"insert into ipl_results values(45 , '5', '2023-05-03', 'Punjab Cricket Association IS Bindra Stadium, Moha','Punjab Kings','Mumbai Indians','Mumbai Indians');\");\n",
    "spark.sql(\"insert into ipl_results values(47 , '5', '2023-05-04', 'Rajiv Gandhi International Stadium, Hyderabad','Sunrisers Hyderabad','Kolkata Knight Riders','Kolkata Knight Riders');\");\n",
    "spark.sql(\"insert into ipl_results values(48 , '5', '2023-05-05', 'Sawai Mansingh Stadium, Jaipur','Rajasthan Royals','Gujarat Titans','Gujarat Titans');\");\n",
    "spark.sql(\"insert into ipl_results values(49 , '5', '2023-05-06', 'MA Chidambaram Stadium, Chennai','Chennai Super Kings','Mumbai Indians','Chennai Super Kings');\");\n",
    "spark.sql(\"insert into ipl_results values(50 , '5', '2023-05-06', 'Arun Jaitley Stadium, Delhi','Delhi Capitals','Royal Challengers Bangalore','Delhi Capitals');\");\n",
    "spark.sql(\"insert into ipl_results values(51 , '6', '2023-05-07', 'Narendra Modi Stadium, Ahmedabad','Gujarat Titans','Lucknow Super Giants','Gujarat Titans');\");\n",
    "spark.sql(\"insert into ipl_results values(52 , '6', '2023-05-07', 'Sawai Mansingh Stadium, Jaipur','Rajasthan Royals','Sunrisers Hyderabad','Sunrisers Hyderabad');\");\n",
    "spark.sql(\"insert into ipl_results values(53 , '6', '2023-05-08', 'Eden Gardens, Kolkata','Kolkata Knight Riders','Punjab Kings','Kolkata Knight Riders');\");\n",
    "spark.sql(\"insert into ipl_results values(54 , '6', '2023-05-09', 'Wankhede Stadium, Mumbai','Mumbai Indians','Royal Challengers Bangalore','Mumbai Indians');\");\n",
    "spark.sql(\"insert into ipl_results values(55 , '6', '2023-05-10', 'MA Chidambaram Stadium, Chennai','Chennai Super Kings','Delhi Capitals','Chennai Super Kings');\");\n",
    "spark.sql(\"insert into ipl_results values(56 , '6', '2023-05-11', 'Eden Gardens, Kolkata','Kolkata Knight Riders','Rajasthan Royals','Rajasthan Royals');\");\n",
    "spark.sql(\"insert into ipl_results values(57 , '6', '2023-05-12', 'Wankhede Stadium, Mumbai','Mumbai Indians','Gujarat Titans','Mumbai Indians');\");\n",
    "spark.sql(\"insert into ipl_results values(58 , '6', '2023-05-13', 'Rajiv Gandhi International Stadium, Hyderabad','Sunrisers Hyderabad','Lucknow Super Giants','Lucknow Super Giants');\");\n",
    "spark.sql(\"insert into ipl_results values(59 , '6', '2023-05-13', 'Arun Jaitley Stadium, Delhi','Delhi Capitals','Punjab Kings','Punjab Kings');\");\n",
    "spark.sql(\"insert into ipl_results values(60 , '7', '2023-05-14', 'Sawai Mansingh Stadium, Jaipur','Rajasthan Royals','Royal Challengers Bangalore','Royal Challengers Bangalore');\");\n",
    "spark.sql(\"insert into ipl_results values(61 , '7', '2023-05-14', 'MA Chidambaram Stadium, Chennai','Chennai Super Kings','Kolkata Knight Riders','Kolkata Knight Riders');\");\n",
    "spark.sql(\"insert into ipl_results values(62 , '7', '2023-05-15', 'Narendra Modi Stadium, Ahmedabad','Gujarat Titans','Sunrisers Hyderabad','Gujarat Titans');\");\n",
    "spark.sql(\"insert into ipl_results values(63 , '7', '2023-05-16', 'Bharat Ratna Shri Atal Bihari Vajpayee Ekana Crick','Lucknow Super Giants','Mumbai Indians','Lucknow Super Giants');\");\n",
    "spark.sql(\"insert into ipl_results values(64 , '7', '2023-05-17', 'Himachal Pradesh Cricket Association Stadium, Dhar','Punjab Kings','Delhi Capitals','Delhi Capitals');\");\n",
    "spark.sql(\"insert into ipl_results values(65 , '7', '2023-05-18', 'Rajiv Gandhi International Stadium, Hyderabad','Sunrisers Hyderabad','Royal Challengers Bangalore','Royal Challengers Bangalore');\");\n",
    "spark.sql(\"insert into ipl_results values(66 , '7', '2023-05-19', 'Himachal Pradesh Cricket Association Stadium, Dhar','Punjab Kings','Rajasthan Royals','Rajasthan Royals');\");\n",
    "spark.sql(\"insert into ipl_results values(67 , '7', '2023-05-20', 'Arun Jaitley Stadium, Delhi','Delhi Capitals','Chennai Super Kings','Chennai Super Kings');\");\n",
    "spark.sql(\"insert into ipl_results values(68 , '7', '2023-05-20', 'Eden Gardens, Kolkata','Kolkata Knight Riders','Lucknow Super Giants','Lucknow Super Giants');\");\n",
    "spark.sql(\"insert into ipl_results values(69 , '7', '2023-05-21', 'Wankhede Stadium, Mumbai','Mumbai Indians','Sunrisers Hyderabad','Mumbai Indians');\");\n",
    "spark.sql(\"insert into ipl_results values(70 , '7', '2023-05-21', 'M Chinnaswamy Stadium, Bengaluru','Royal Challengers Bangalore','Gujarat Titans','Gujarat Titans');\");\n",
    "spark.sql(\"insert into ipl_results values(71 , 'Qualifier 1' ,'2023-05-23', 'MA Chidambaram Stadium, Chennai','Gujarat Titans','Chennai Super Kings','Chennai Super Kings');\");\n",
    "spark.sql(\"insert into ipl_results values(72 , 'Eliminator' ,'2023-05-24', 'MA Chidambaram Stadium, Chennai','Lucknow Super Giants','Mumbai Indians','Mumbai Indians');\");\n",
    "spark.sql(\"insert into ipl_results values(73 , 'Qualifier 2' ,'2023-05-26', 'Narendra Modi Stadium, Ahmedabad','Gujarat Titans','Mumbai Indians','Gujarat Titans');\");\n",
    "spark.sql(\"insert into ipl_results values(74 , 'Final' ,'2023-05-29', 'Narendra Modi Stadium, Ahmedabad','Chennai Super Kings','Gujarat Titans','Chennai Super Kings');\");"
   ]
  },
  {
   "cell_type": "code",
   "execution_count": null,
   "id": "0ad44602",
   "metadata": {},
   "outputs": [],
   "source": [
    "# spark.sql(\"select * from ipl_results\")"
   ]
  },
  {
   "cell_type": "code",
   "execution_count": null,
   "id": "661c6ae0",
   "metadata": {},
   "outputs": [],
   "source": [
    "# spark.sql(\"select date_format(to_date(dates), 'MM') from ipl_results\")"
   ]
  },
  {
   "cell_type": "code",
   "execution_count": 5,
   "id": "95ecd738",
   "metadata": {},
   "outputs": [],
   "source": [
    "df = spark.read.table(\"ipl_results\")"
   ]
  },
  {
   "cell_type": "code",
   "execution_count": 6,
   "id": "58f30394",
   "metadata": {},
   "outputs": [],
   "source": [
    "df = df.withColumn(\"dates\", to_date(col(\"dates\")))"
   ]
  },
  {
   "cell_type": "code",
   "execution_count": null,
   "id": "d845f02e",
   "metadata": {},
   "outputs": [],
   "source": [
    "df"
   ]
  },
  {
   "cell_type": "code",
   "execution_count": 7,
   "id": "6a052847",
   "metadata": {},
   "outputs": [],
   "source": [
    "df = df.withColumn(\"match_details\",concat(col(\"home_team\"), lit(\" vs \"), col(\"away_team\")))"
   ]
  },
  {
   "cell_type": "code",
   "execution_count": 11,
   "id": "7a093979",
   "metadata": {},
   "outputs": [
    {
     "data": {
      "text/html": [
       "<table border='1'>\n",
       "<tr><th>match_no</th><th>round_number</th><th>dates</th><th>location</th><th>home_team</th><th>away_team</th><th>result</th><th>match_details</th></tr>\n",
       "<tr><td>73</td><td>Qualifier 2</td><td>2023-05-26</td><td>Narendra Modi Sta...</td><td>Gujarat Titans</td><td>Mumbai Indians</td><td>Gujarat Titans</td><td>Gujarat Titans vs...</td></tr>\n",
       "<tr><td>13</td><td>2</td><td>2023-04-09</td><td>Narendra Modi Sta...</td><td>Gujarat Titans</td><td>Kolkata Knight Ri...</td><td>Kolkata Knight Ri...</td><td>Gujarat Titans vs...</td></tr>\n",
       "<tr><td>62</td><td>7</td><td>2023-05-15</td><td>Narendra Modi Sta...</td><td>Gujarat Titans</td><td>Sunrisers Hyderabad</td><td>Gujarat Titans</td><td>Gujarat Titans vs...</td></tr>\n",
       "<tr><td>17</td><td>2</td><td>2023-04-12</td><td>MA Chidambaram St...</td><td>Chennai Super Kings</td><td>Rajasthan Royals</td><td>Rajasthan Royals</td><td>Chennai Super Kin...</td></tr>\n",
       "<tr><td>46</td><td>5</td><td>2023-05-03</td><td>Bharat Ratna Shri...</td><td>Lucknow Super Giants</td><td>Chennai Super Kings</td><td>No Result</td><td>Lucknow Super Gia...</td></tr>\n",
       "<tr><td>37</td><td>4</td><td>2023-04-27</td><td>Sawai Mansingh St...</td><td>Rajasthan Royals</td><td>Chennai Super Kings</td><td>Rajasthan Royals</td><td>Rajasthan Royals ...</td></tr>\n",
       "<tr><td>68</td><td>7</td><td>2023-05-20</td><td>Eden Gardens, Kol...</td><td>Kolkata Knight Ri...</td><td>Lucknow Super Giants</td><td>Lucknow Super Giants</td><td>Kolkata Knight Ri...</td></tr>\n",
       "<tr><td>52</td><td>6</td><td>2023-05-07</td><td>Sawai Mansingh St...</td><td>Rajasthan Royals</td><td>Sunrisers Hyderabad</td><td>Sunrisers Hyderabad</td><td>Rajasthan Royals ...</td></tr>\n",
       "<tr><td>66</td><td>7</td><td>2023-05-19</td><td>Himachal Pradesh ...</td><td>Punjab Kings</td><td>Rajasthan Royals</td><td>Rajasthan Royals</td><td>Punjab Kings vs R...</td></tr>\n",
       "<tr><td>51</td><td>6</td><td>2023-05-07</td><td>Narendra Modi Sta...</td><td>Gujarat Titans</td><td>Lucknow Super Giants</td><td>Gujarat Titans</td><td>Gujarat Titans vs...</td></tr>\n",
       "<tr><td>59</td><td>6</td><td>2023-05-13</td><td>Arun Jaitley Stad...</td><td>Delhi Capitals</td><td>Punjab Kings</td><td>Punjab Kings</td><td>Delhi Capitals vs...</td></tr>\n",
       "<tr><td>30</td><td>4</td><td>2023-04-22</td><td>Bharat Ratna Shri...</td><td>Lucknow Super Giants</td><td>Gujarat Titans</td><td>Gujarat Titans</td><td>Lucknow Super Gia...</td></tr>\n",
       "<tr><td>5</td><td>1</td><td>2023-04-02</td><td>M Chinnaswamy Sta...</td><td>Royal Challengers...</td><td>Mumbai Indians</td><td>Royal Challengers...</td><td>Royal Challengers...</td></tr>\n",
       "<tr><td>4</td><td>1</td><td>2023-04-02</td><td>Rajiv Gandhi Inte...</td><td>Sunrisers Hyderabad</td><td>Rajasthan Royals</td><td>Rajasthan Royals</td><td>Sunrisers Hyderab...</td></tr>\n",
       "<tr><td>27</td><td>3</td><td>2023-04-20</td><td>Punjab Cricket As...</td><td>Punjab Kings</td><td>Royal Challengers...</td><td>Royal Challengers...</td><td>Punjab Kings vs R...</td></tr>\n",
       "<tr><td>74</td><td>Final</td><td>2023-05-29</td><td>Narendra Modi Sta...</td><td>Chennai Super Kings</td><td>Gujarat Titans</td><td>Chennai Super Kings</td><td>Chennai Super Kin...</td></tr>\n",
       "<tr><td>31</td><td>4</td><td>2023-04-22</td><td>Wankhede Stadium,...</td><td>Mumbai Indians</td><td>Punjab Kings</td><td>Punjab Kings</td><td>Mumbai Indians vs...</td></tr>\n",
       "<tr><td>3</td><td>1</td><td>2023-04-01</td><td>Bharat Ratna Shri...</td><td>Lucknow Super Giants</td><td>Delhi Capitals</td><td>Lucknow Super Giants</td><td>Lucknow Super Gia...</td></tr>\n",
       "<tr><td>35</td><td>4</td><td>2023-04-25</td><td>Narendra Modi Sta...</td><td>Gujarat Titans</td><td>Mumbai Indians</td><td>Gujarat Titans</td><td>Gujarat Titans vs...</td></tr>\n",
       "<tr><td>1</td><td>1</td><td>2023-03-31</td><td>Narendra Modi Sta...</td><td>Gujarat Titans</td><td>Chennai Super Kings</td><td>Gujarat Titans</td><td>Gujarat Titans vs...</td></tr>\n",
       "</table>\n",
       "only showing top 20 rows\n"
      ],
      "text/plain": [
       "+--------+------------+----------+--------------------+--------------------+--------------------+--------------------+--------------------+\n",
       "|match_no|round_number|     dates|            location|           home_team|           away_team|              result|       match_details|\n",
       "+--------+------------+----------+--------------------+--------------------+--------------------+--------------------+--------------------+\n",
       "|      73| Qualifier 2|2023-05-26|Narendra Modi Sta...|      Gujarat Titans|      Mumbai Indians|      Gujarat Titans|Gujarat Titans vs...|\n",
       "|      13|           2|2023-04-09|Narendra Modi Sta...|      Gujarat Titans|Kolkata Knight Ri...|Kolkata Knight Ri...|Gujarat Titans vs...|\n",
       "|      62|           7|2023-05-15|Narendra Modi Sta...|      Gujarat Titans| Sunrisers Hyderabad|      Gujarat Titans|Gujarat Titans vs...|\n",
       "|      17|           2|2023-04-12|MA Chidambaram St...| Chennai Super Kings|    Rajasthan Royals|    Rajasthan Royals|Chennai Super Kin...|\n",
       "|      46|           5|2023-05-03|Bharat Ratna Shri...|Lucknow Super Giants| Chennai Super Kings|           No Result|Lucknow Super Gia...|\n",
       "|      37|           4|2023-04-27|Sawai Mansingh St...|    Rajasthan Royals| Chennai Super Kings|    Rajasthan Royals|Rajasthan Royals ...|\n",
       "|      68|           7|2023-05-20|Eden Gardens, Kol...|Kolkata Knight Ri...|Lucknow Super Giants|Lucknow Super Giants|Kolkata Knight Ri...|\n",
       "|      52|           6|2023-05-07|Sawai Mansingh St...|    Rajasthan Royals| Sunrisers Hyderabad| Sunrisers Hyderabad|Rajasthan Royals ...|\n",
       "|      66|           7|2023-05-19|Himachal Pradesh ...|        Punjab Kings|    Rajasthan Royals|    Rajasthan Royals|Punjab Kings vs R...|\n",
       "|      51|           6|2023-05-07|Narendra Modi Sta...|      Gujarat Titans|Lucknow Super Giants|      Gujarat Titans|Gujarat Titans vs...|\n",
       "|      59|           6|2023-05-13|Arun Jaitley Stad...|      Delhi Capitals|        Punjab Kings|        Punjab Kings|Delhi Capitals vs...|\n",
       "|      30|           4|2023-04-22|Bharat Ratna Shri...|Lucknow Super Giants|      Gujarat Titans|      Gujarat Titans|Lucknow Super Gia...|\n",
       "|       5|           1|2023-04-02|M Chinnaswamy Sta...|Royal Challengers...|      Mumbai Indians|Royal Challengers...|Royal Challengers...|\n",
       "|       4|           1|2023-04-02|Rajiv Gandhi Inte...| Sunrisers Hyderabad|    Rajasthan Royals|    Rajasthan Royals|Sunrisers Hyderab...|\n",
       "|      27|           3|2023-04-20|Punjab Cricket As...|        Punjab Kings|Royal Challengers...|Royal Challengers...|Punjab Kings vs R...|\n",
       "|      74|       Final|2023-05-29|Narendra Modi Sta...| Chennai Super Kings|      Gujarat Titans| Chennai Super Kings|Chennai Super Kin...|\n",
       "|      31|           4|2023-04-22|Wankhede Stadium,...|      Mumbai Indians|        Punjab Kings|        Punjab Kings|Mumbai Indians vs...|\n",
       "|       3|           1|2023-04-01|Bharat Ratna Shri...|Lucknow Super Giants|      Delhi Capitals|Lucknow Super Giants|Lucknow Super Gia...|\n",
       "|      35|           4|2023-04-25|Narendra Modi Sta...|      Gujarat Titans|      Mumbai Indians|      Gujarat Titans|Gujarat Titans vs...|\n",
       "|       1|           1|2023-03-31|Narendra Modi Sta...|      Gujarat Titans| Chennai Super Kings|      Gujarat Titans|Gujarat Titans vs...|\n",
       "+--------+------------+----------+--------------------+--------------------+--------------------+--------------------+--------------------+\n",
       "only showing top 20 rows"
      ]
     },
     "execution_count": 11,
     "metadata": {},
     "output_type": "execute_result"
    }
   ],
   "source": [
    "df"
   ]
  },
  {
   "cell_type": "code",
   "execution_count": 10,
   "id": "e49eecb0",
   "metadata": {},
   "outputs": [],
   "source": [
    "teams_df = df.select(col(\"home_team\").alias(\"team\"))\\\n",
    "    .union(df.select(\"away_team\")).distinct()"
   ]
  },
  {
   "cell_type": "code",
   "execution_count": 11,
   "id": "a18dae2a",
   "metadata": {},
   "outputs": [
    {
     "data": {
      "text/html": [
       "<table border='1'>\n",
       "<tr><th>team</th></tr>\n",
       "<tr><td>Sunrisers Hyderabad</td></tr>\n",
       "<tr><td>Lucknow Super Giants</td></tr>\n",
       "<tr><td>Chennai Super Kings</td></tr>\n",
       "<tr><td>Gujarat Titans</td></tr>\n",
       "<tr><td>Rajasthan Royals</td></tr>\n",
       "<tr><td>Royal Challengers...</td></tr>\n",
       "<tr><td>Kolkata Knight Ri...</td></tr>\n",
       "<tr><td>Punjab Kings</td></tr>\n",
       "<tr><td>Delhi Capitals</td></tr>\n",
       "<tr><td>Mumbai Indians</td></tr>\n",
       "</table>\n"
      ],
      "text/plain": [
       "+--------------------+\n",
       "|                team|\n",
       "+--------------------+\n",
       "| Sunrisers Hyderabad|\n",
       "|Lucknow Super Giants|\n",
       "| Chennai Super Kings|\n",
       "|      Gujarat Titans|\n",
       "|    Rajasthan Royals|\n",
       "|Royal Challengers...|\n",
       "|Kolkata Knight Ri...|\n",
       "|        Punjab Kings|\n",
       "|      Delhi Capitals|\n",
       "|      Mumbai Indians|\n",
       "+--------------------+"
      ]
     },
     "execution_count": 11,
     "metadata": {},
     "output_type": "execute_result"
    }
   ],
   "source": [
    "teams_df"
   ]
  },
  {
   "cell_type": "code",
   "execution_count": 12,
   "id": "38f35685",
   "metadata": {},
   "outputs": [],
   "source": [
    "new_df = df.join(teams_df, (df['home_team']== teams_df.team) | (df['away_team']== teams_df.team) , \"inner\")\\\n",
    ".select(\"dates\", \"team\", \"result\", \n",
    "        row_number().over(Window.partitionBy(\"team\").orderBy('dates')).alias(\"match_number\"))"
   ]
  },
  {
   "cell_type": "code",
   "execution_count": 13,
   "id": "c7ff525e",
   "metadata": {},
   "outputs": [
    {
     "data": {
      "text/html": [
       "<table border='1'>\n",
       "<tr><th>dates</th><th>team</th><th>result</th><th>match_number</th></tr>\n",
       "<tr><td>2023-03-31</td><td>Chennai Super Kings</td><td>Gujarat Titans</td><td>1</td></tr>\n",
       "<tr><td>2023-04-03</td><td>Chennai Super Kings</td><td>Chennai Super Kings</td><td>2</td></tr>\n",
       "<tr><td>2023-04-08</td><td>Chennai Super Kings</td><td>Chennai Super Kings</td><td>3</td></tr>\n",
       "<tr><td>2023-04-12</td><td>Chennai Super Kings</td><td>Rajasthan Royals</td><td>4</td></tr>\n",
       "<tr><td>2023-04-17</td><td>Chennai Super Kings</td><td>Chennai Super Kings</td><td>5</td></tr>\n",
       "<tr><td>2023-04-21</td><td>Chennai Super Kings</td><td>Chennai Super Kings</td><td>6</td></tr>\n",
       "<tr><td>2023-04-23</td><td>Chennai Super Kings</td><td>Chennai Super Kings</td><td>7</td></tr>\n",
       "<tr><td>2023-04-27</td><td>Chennai Super Kings</td><td>Rajasthan Royals</td><td>8</td></tr>\n",
       "<tr><td>2023-04-30</td><td>Chennai Super Kings</td><td>Punjab Kings</td><td>9</td></tr>\n",
       "<tr><td>2023-05-03</td><td>Chennai Super Kings</td><td>No Result</td><td>10</td></tr>\n",
       "<tr><td>2023-05-06</td><td>Chennai Super Kings</td><td>Chennai Super Kings</td><td>11</td></tr>\n",
       "<tr><td>2023-05-10</td><td>Chennai Super Kings</td><td>Chennai Super Kings</td><td>12</td></tr>\n",
       "<tr><td>2023-05-14</td><td>Chennai Super Kings</td><td>Kolkata Knight Ri...</td><td>13</td></tr>\n",
       "<tr><td>2023-05-20</td><td>Chennai Super Kings</td><td>Chennai Super Kings</td><td>14</td></tr>\n",
       "<tr><td>2023-05-23</td><td>Chennai Super Kings</td><td>Chennai Super Kings</td><td>15</td></tr>\n",
       "<tr><td>2023-05-29</td><td>Chennai Super Kings</td><td>Chennai Super Kings</td><td>16</td></tr>\n",
       "<tr><td>2023-04-01</td><td>Delhi Capitals</td><td>Lucknow Super Giants</td><td>1</td></tr>\n",
       "<tr><td>2023-04-04</td><td>Delhi Capitals</td><td>Gujarat Titans</td><td>2</td></tr>\n",
       "<tr><td>2023-04-08</td><td>Delhi Capitals</td><td>Rajasthan Royals</td><td>3</td></tr>\n",
       "<tr><td>2023-04-11</td><td>Delhi Capitals</td><td>Mumbai Indians</td><td>4</td></tr>\n",
       "</table>\n",
       "only showing top 20 rows\n"
      ],
      "text/plain": [
       "+----------+-------------------+--------------------+------------+\n",
       "|     dates|               team|              result|match_number|\n",
       "+----------+-------------------+--------------------+------------+\n",
       "|2023-03-31|Chennai Super Kings|      Gujarat Titans|           1|\n",
       "|2023-04-03|Chennai Super Kings| Chennai Super Kings|           2|\n",
       "|2023-04-08|Chennai Super Kings| Chennai Super Kings|           3|\n",
       "|2023-04-12|Chennai Super Kings|    Rajasthan Royals|           4|\n",
       "|2023-04-17|Chennai Super Kings| Chennai Super Kings|           5|\n",
       "|2023-04-21|Chennai Super Kings| Chennai Super Kings|           6|\n",
       "|2023-04-23|Chennai Super Kings| Chennai Super Kings|           7|\n",
       "|2023-04-27|Chennai Super Kings|    Rajasthan Royals|           8|\n",
       "|2023-04-30|Chennai Super Kings|        Punjab Kings|           9|\n",
       "|2023-05-03|Chennai Super Kings|           No Result|          10|\n",
       "|2023-05-06|Chennai Super Kings| Chennai Super Kings|          11|\n",
       "|2023-05-10|Chennai Super Kings| Chennai Super Kings|          12|\n",
       "|2023-05-14|Chennai Super Kings|Kolkata Knight Ri...|          13|\n",
       "|2023-05-20|Chennai Super Kings| Chennai Super Kings|          14|\n",
       "|2023-05-23|Chennai Super Kings| Chennai Super Kings|          15|\n",
       "|2023-05-29|Chennai Super Kings| Chennai Super Kings|          16|\n",
       "|2023-04-01|     Delhi Capitals|Lucknow Super Giants|           1|\n",
       "|2023-04-04|     Delhi Capitals|      Gujarat Titans|           2|\n",
       "|2023-04-08|     Delhi Capitals|    Rajasthan Royals|           3|\n",
       "|2023-04-11|     Delhi Capitals|      Mumbai Indians|           4|\n",
       "+----------+-------------------+--------------------+------------+\n",
       "only showing top 20 rows"
      ]
     },
     "execution_count": 13,
     "metadata": {},
     "output_type": "execute_result"
    }
   ],
   "source": [
    "new_df.orderBy(\"team\", \"match_number\")"
   ]
  },
  {
   "cell_type": "code",
   "execution_count": 14,
   "id": "fb7599af",
   "metadata": {},
   "outputs": [],
   "source": [
    "new_df = new_df.filter(col(\"team\")== col(\"result\"))\\\n",
    ".withColumn(\"wins\", row_number().over(Window.partitionBy(\"result\").orderBy('dates')))"
   ]
  },
  {
   "cell_type": "code",
   "execution_count": null,
   "id": "0239108f",
   "metadata": {},
   "outputs": [],
   "source": [
    "new_df.orderBy(\"team\", \"match_number\")"
   ]
  },
  {
   "cell_type": "code",
   "execution_count": 15,
   "id": "b2047fc8",
   "metadata": {},
   "outputs": [],
   "source": [
    "new_df = new_df.withColumn(\"diff\", col(\"match_number\") - col(\"wins\"))"
   ]
  },
  {
   "cell_type": "code",
   "execution_count": null,
   "id": "6ed76df6",
   "metadata": {},
   "outputs": [],
   "source": [
    "new_df.orderBy(\"team\", \"match_number\")"
   ]
  },
  {
   "cell_type": "code",
   "execution_count": 20,
   "id": "751aa96b",
   "metadata": {},
   "outputs": [
    {
     "data": {
      "text/html": [
       "<table border='1'>\n",
       "<tr><th>result</th><th>streak</th></tr>\n",
       "<tr><td>Sunrisers Hyderabad</td><td>2</td></tr>\n",
       "<tr><td>Lucknow Super Giants</td><td>3</td></tr>\n",
       "<tr><td>Chennai Super Kings</td><td>3</td></tr>\n",
       "<tr><td>Gujarat Titans</td><td>3</td></tr>\n",
       "<tr><td>Rajasthan Royals</td><td>3</td></tr>\n",
       "<tr><td>Royal Challengers...</td><td>2</td></tr>\n",
       "<tr><td>Kolkata Knight Ri...</td><td>2</td></tr>\n",
       "<tr><td>Punjab Kings</td><td>2</td></tr>\n",
       "<tr><td>Delhi Capitals</td><td>2</td></tr>\n",
       "<tr><td>Mumbai Indians</td><td>3</td></tr>\n",
       "</table>\n"
      ],
      "text/plain": [
       "+--------------------+------+\n",
       "|              result|streak|\n",
       "+--------------------+------+\n",
       "| Sunrisers Hyderabad|     2|\n",
       "|Lucknow Super Giants|     3|\n",
       "| Chennai Super Kings|     3|\n",
       "|      Gujarat Titans|     3|\n",
       "|    Rajasthan Royals|     3|\n",
       "|Royal Challengers...|     2|\n",
       "|Kolkata Knight Ri...|     2|\n",
       "|        Punjab Kings|     2|\n",
       "|      Delhi Capitals|     2|\n",
       "|      Mumbai Indians|     3|\n",
       "+--------------------+------+"
      ]
     },
     "execution_count": 20,
     "metadata": {},
     "output_type": "execute_result"
    }
   ],
   "source": [
    "new_df.groupBy(\"result\", \"diff\").agg(count(\"*\").alias(\"streak_cnt\"))\\\n",
    "        .groupBy(\"result\").agg(max(\"streak_cnt\").alias(\"streak\"))"
   ]
  },
  {
   "cell_type": "code",
   "execution_count": null,
   "id": "0292a3f0",
   "metadata": {},
   "outputs": [],
   "source": [
    "window_spec = Window.partitionBy(\"team\").orderBy('dates')"
   ]
  },
  {
   "cell_type": "code",
   "execution_count": null,
   "id": "b0bae76b",
   "metadata": {},
   "outputs": [],
   "source": [
    "new_df = df.select(\"dates\", col(\"home_team\").alias('team'), when(col(\"result\") == col('home_team'), 1).otherwise(0).alias(\"point\"))\\\n",
    ".union( df.select(\"dates\", col(\"away_team\").alias('team'), when(col(\"result\") == col('away_team'), 1).otherwise(0).alias(\"point\")))"
   ]
  },
  {
   "cell_type": "code",
   "execution_count": null,
   "id": "c18be559",
   "metadata": {},
   "outputs": [],
   "source": [
    "new_df"
   ]
  },
  {
   "cell_type": "code",
   "execution_count": null,
   "id": "3867db7b",
   "metadata": {},
   "outputs": [],
   "source": [
    "new_df = new_df.withColumn(\"prev_point\", lag(col(\"point\"), 1).over(window_spec))"
   ]
  },
  {
   "cell_type": "code",
   "execution_count": null,
   "id": "c060fa36",
   "metadata": {},
   "outputs": [],
   "source": [
    "new_df = new_df.withColumn(\"streak\", lit(0))"
   ]
  },
  {
   "cell_type": "code",
   "execution_count": null,
   "id": "8b3c7148",
   "metadata": {},
   "outputs": [],
   "source": [
    "new_df.withColumn(\"streak\", when((col(\"point\") == 1) & (col(\"prev_point\") == 1), col(\"streak\") + 1)\\\n",
    "                  .otherwise(1).alias(\"streak\"))"
   ]
  },
  {
   "cell_type": "code",
   "execution_count": null,
   "id": "e5b54494",
   "metadata": {},
   "outputs": [],
   "source": []
  }
 ],
 "metadata": {
  "kernelspec": {
   "display_name": "Pyspark 3",
   "language": "python",
   "name": "pyspark3"
  },
  "language_info": {
   "codemirror_mode": {
    "name": "ipython",
    "version": 3
   },
   "file_extension": ".py",
   "mimetype": "text/x-python",
   "name": "python",
   "nbconvert_exporter": "python",
   "pygments_lexer": "ipython3",
   "version": "3.6.12"
  }
 },
 "nbformat": 4,
 "nbformat_minor": 5
}
